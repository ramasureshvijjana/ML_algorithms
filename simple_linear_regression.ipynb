{
 "cells": [
  {
   "cell_type": "markdown",
   "id": "662bb8f5",
   "metadata": {},
   "source": [
    "## Simple Linear Regression"
   ]
  },
  {
   "cell_type": "markdown",
   "id": "16beb1d2",
   "metadata": {},
   "source": [
    "### Importing required libraries."
   ]
  },
  {
   "cell_type": "code",
   "execution_count": 1,
   "id": "0e931d40",
   "metadata": {},
   "outputs": [],
   "source": [
    "import numpy as np\n",
    "import pandas as pd\n",
    "from sklearn.linear_model import LinearRegression\n",
    "from sklearn.model_selection import train_test_split\n",
    "import matplotlib.pyplot as plt\n",
    "from sklearn import metrics"
   ]
  },
  {
   "cell_type": "markdown",
   "id": "860c9a6e",
   "metadata": {},
   "source": [
    "### Loading data from csv file"
   ]
  },
  {
   "cell_type": "code",
   "execution_count": 2,
   "id": "a56df850",
   "metadata": {},
   "outputs": [
    {
     "data": {
      "text/html": [
       "<div>\n",
       "<style scoped>\n",
       "    .dataframe tbody tr th:only-of-type {\n",
       "        vertical-align: middle;\n",
       "    }\n",
       "\n",
       "    .dataframe tbody tr th {\n",
       "        vertical-align: top;\n",
       "    }\n",
       "\n",
       "    .dataframe thead th {\n",
       "        text-align: right;\n",
       "    }\n",
       "</style>\n",
       "<table border=\"1\" class=\"dataframe\">\n",
       "  <thead>\n",
       "    <tr style=\"text-align: right;\">\n",
       "      <th></th>\n",
       "      <th>Species</th>\n",
       "      <th>Weight</th>\n",
       "      <th>Length1</th>\n",
       "      <th>Length2</th>\n",
       "      <th>Length3</th>\n",
       "      <th>Height</th>\n",
       "      <th>Width</th>\n",
       "    </tr>\n",
       "  </thead>\n",
       "  <tbody>\n",
       "    <tr>\n",
       "      <th>0</th>\n",
       "      <td>Bream</td>\n",
       "      <td>242.0</td>\n",
       "      <td>23.2</td>\n",
       "      <td>25.4</td>\n",
       "      <td>30.0</td>\n",
       "      <td>11.5200</td>\n",
       "      <td>4.0200</td>\n",
       "    </tr>\n",
       "    <tr>\n",
       "      <th>1</th>\n",
       "      <td>Bream</td>\n",
       "      <td>290.0</td>\n",
       "      <td>24.0</td>\n",
       "      <td>26.3</td>\n",
       "      <td>31.2</td>\n",
       "      <td>12.4800</td>\n",
       "      <td>4.3056</td>\n",
       "    </tr>\n",
       "    <tr>\n",
       "      <th>2</th>\n",
       "      <td>Bream</td>\n",
       "      <td>340.0</td>\n",
       "      <td>23.9</td>\n",
       "      <td>26.5</td>\n",
       "      <td>31.1</td>\n",
       "      <td>12.3778</td>\n",
       "      <td>4.6961</td>\n",
       "    </tr>\n",
       "    <tr>\n",
       "      <th>3</th>\n",
       "      <td>Bream</td>\n",
       "      <td>363.0</td>\n",
       "      <td>26.3</td>\n",
       "      <td>29.0</td>\n",
       "      <td>33.5</td>\n",
       "      <td>12.7300</td>\n",
       "      <td>4.4555</td>\n",
       "    </tr>\n",
       "    <tr>\n",
       "      <th>4</th>\n",
       "      <td>Bream</td>\n",
       "      <td>430.0</td>\n",
       "      <td>26.5</td>\n",
       "      <td>29.0</td>\n",
       "      <td>34.0</td>\n",
       "      <td>12.4440</td>\n",
       "      <td>5.1340</td>\n",
       "    </tr>\n",
       "    <tr>\n",
       "      <th>...</th>\n",
       "      <td>...</td>\n",
       "      <td>...</td>\n",
       "      <td>...</td>\n",
       "      <td>...</td>\n",
       "      <td>...</td>\n",
       "      <td>...</td>\n",
       "      <td>...</td>\n",
       "    </tr>\n",
       "    <tr>\n",
       "      <th>154</th>\n",
       "      <td>Smelt</td>\n",
       "      <td>12.2</td>\n",
       "      <td>11.5</td>\n",
       "      <td>12.2</td>\n",
       "      <td>13.4</td>\n",
       "      <td>2.0904</td>\n",
       "      <td>1.3936</td>\n",
       "    </tr>\n",
       "    <tr>\n",
       "      <th>155</th>\n",
       "      <td>Smelt</td>\n",
       "      <td>13.4</td>\n",
       "      <td>11.7</td>\n",
       "      <td>12.4</td>\n",
       "      <td>13.5</td>\n",
       "      <td>2.4300</td>\n",
       "      <td>1.2690</td>\n",
       "    </tr>\n",
       "    <tr>\n",
       "      <th>156</th>\n",
       "      <td>Smelt</td>\n",
       "      <td>12.2</td>\n",
       "      <td>12.1</td>\n",
       "      <td>13.0</td>\n",
       "      <td>13.8</td>\n",
       "      <td>2.2770</td>\n",
       "      <td>1.2558</td>\n",
       "    </tr>\n",
       "    <tr>\n",
       "      <th>157</th>\n",
       "      <td>Smelt</td>\n",
       "      <td>19.7</td>\n",
       "      <td>13.2</td>\n",
       "      <td>14.3</td>\n",
       "      <td>15.2</td>\n",
       "      <td>2.8728</td>\n",
       "      <td>2.0672</td>\n",
       "    </tr>\n",
       "    <tr>\n",
       "      <th>158</th>\n",
       "      <td>Smelt</td>\n",
       "      <td>19.9</td>\n",
       "      <td>13.8</td>\n",
       "      <td>15.0</td>\n",
       "      <td>16.2</td>\n",
       "      <td>2.9322</td>\n",
       "      <td>1.8792</td>\n",
       "    </tr>\n",
       "  </tbody>\n",
       "</table>\n",
       "<p>159 rows × 7 columns</p>\n",
       "</div>"
      ],
      "text/plain": [
       "    Species  Weight  Length1  Length2  Length3   Height   Width\n",
       "0     Bream   242.0     23.2     25.4     30.0  11.5200  4.0200\n",
       "1     Bream   290.0     24.0     26.3     31.2  12.4800  4.3056\n",
       "2     Bream   340.0     23.9     26.5     31.1  12.3778  4.6961\n",
       "3     Bream   363.0     26.3     29.0     33.5  12.7300  4.4555\n",
       "4     Bream   430.0     26.5     29.0     34.0  12.4440  5.1340\n",
       "..      ...     ...      ...      ...      ...      ...     ...\n",
       "154   Smelt    12.2     11.5     12.2     13.4   2.0904  1.3936\n",
       "155   Smelt    13.4     11.7     12.4     13.5   2.4300  1.2690\n",
       "156   Smelt    12.2     12.1     13.0     13.8   2.2770  1.2558\n",
       "157   Smelt    19.7     13.2     14.3     15.2   2.8728  2.0672\n",
       "158   Smelt    19.9     13.8     15.0     16.2   2.9322  1.8792\n",
       "\n",
       "[159 rows x 7 columns]"
      ]
     },
     "metadata": {},
     "output_type": "display_data"
    }
   ],
   "source": [
    "data = pd.read_csv(\"E:/ML_All/ML_algorithms/ML_algorithms/data/Fish.csv\")\n",
    "display(data)"
   ]
  },
  {
   "cell_type": "markdown",
   "id": "76a87e53",
   "metadata": {},
   "source": [
    "###  Data splitting, Model creation, "
   ]
  },
  {
   "cell_type": "code",
   "execution_count": 3,
   "id": "795823a5",
   "metadata": {},
   "outputs": [],
   "source": [
    "def model_training(x, y):\n",
    "    # Splitting the data for testing and training purposes.\n",
    "    x_train, x_test, y_train, y_test = train_test_split(x, y, test_size=.3, random_state=5)\n",
    "    # Model creation\n",
    "    reg = LinearRegression()\n",
    "    # Model training\n",
    "    reg = reg.fit(x_train, y_train)\n",
    "    # Model testing\n",
    "    Y_pred = reg.predict(x_test)\n",
    "    \n",
    "    return reg, x_test, y_train, y_test, Y_pred"
   ]
  },
  {
   "cell_type": "markdown",
   "id": "f54d0128",
   "metadata": {},
   "source": [
    "### Model matrices calculations."
   ]
  },
  {
   "cell_type": "code",
   "execution_count": 4,
   "id": "be603f62",
   "metadata": {},
   "outputs": [],
   "source": [
    "def model_evalution(reg, x_test, y_test, Y_pred):\n",
    "    mse = metrics.mean_squared_error(y_test, Y_pred)\n",
    "    mape = np.mean(np.abs((y_test - Y_pred) / y_test)) * 100\n",
    "    r_two = metrics.r2_score(y_test, Y_pred)\n",
    "    \n",
    "    n = x_test.shape[0]\n",
    "    k = x_test.shape[1]\n",
    "    residuals = y_test - Y_pred\n",
    "    \n",
    "    # Printing all marices values.\n",
    "    rows = [[\"Slope of line (weight)\", reg.coef_[0]],\n",
    "          [\"intercepting on Y-Axis\", reg.intercept_],\n",
    "          [\"Mean Absolute Error\", [metrics.mean_absolute_error(y_test, Y_pred)]],\n",
    "          [\"Mean Squared Error\", [mse]],\n",
    "          [\"Root Mean Absolute Error\", [np.sqrt(mse)]],\n",
    "          [\"Mean Absolute percentage Error\", [mape]],\n",
    "          [\"R-Square score\", [r_two]],\n",
    "          [\"Number of dependent variables (y)\", [n]],\n",
    "          [\"Number of independent variables (x)\", [k]],\n",
    "          [\"Adjusted  R-Square score\", [1 - (((1-r_two)*(n-1))/(n-k-1))]],\n",
    "          [\"Accuracy of model\", [metrics.explained_variance_score(y_test, Y_pred)]]]\n",
    "    stats = pd.DataFrame(data= rows, columns=['Name', 'Value'])\n",
    "    display(stats)\n",
    "    \n",
    "    # Draw the residual plot.\n",
    "    plt.scatter(Y_pred, residuals)\n",
    "    plt.axhline(y = 0, color = \"red\", linestyle = \"--\")\n",
    "    plt.xlabel('Predicted y values')\n",
    "    plt.xlabel('Residuals')\n",
    "    plt.title(\"Residual Plot\")\n",
    "    plt.show()\n"
   ]
  },
  {
   "cell_type": "markdown",
   "id": "3e470630",
   "metadata": {},
   "source": [
    "### End user use case."
   ]
  },
  {
   "cell_type": "code",
   "execution_count": 5,
   "id": "ae5f5a0f",
   "metadata": {},
   "outputs": [
    {
     "data": {
      "text/html": [
       "<div>\n",
       "<style scoped>\n",
       "    .dataframe tbody tr th:only-of-type {\n",
       "        vertical-align: middle;\n",
       "    }\n",
       "\n",
       "    .dataframe tbody tr th {\n",
       "        vertical-align: top;\n",
       "    }\n",
       "\n",
       "    .dataframe thead th {\n",
       "        text-align: right;\n",
       "    }\n",
       "</style>\n",
       "<table border=\"1\" class=\"dataframe\">\n",
       "  <thead>\n",
       "    <tr style=\"text-align: right;\">\n",
       "      <th></th>\n",
       "      <th>Name</th>\n",
       "      <th>Value</th>\n",
       "    </tr>\n",
       "  </thead>\n",
       "  <tbody>\n",
       "    <tr>\n",
       "      <th>0</th>\n",
       "      <td>Slope of line (weight)</td>\n",
       "      <td>[0.3156145350643722]</td>\n",
       "    </tr>\n",
       "    <tr>\n",
       "      <th>1</th>\n",
       "      <td>intercepting on Y-Axis</td>\n",
       "      <td>[1.6318506164816515]</td>\n",
       "    </tr>\n",
       "    <tr>\n",
       "      <th>2</th>\n",
       "      <td>Mean Absolute Error</td>\n",
       "      <td>[0.7027153822663212]</td>\n",
       "    </tr>\n",
       "    <tr>\n",
       "      <th>3</th>\n",
       "      <td>Mean Squared Error</td>\n",
       "      <td>[0.7821261700365794]</td>\n",
       "    </tr>\n",
       "    <tr>\n",
       "      <th>4</th>\n",
       "      <td>Root Mean Absolute Error</td>\n",
       "      <td>[0.8843789742166982]</td>\n",
       "    </tr>\n",
       "    <tr>\n",
       "      <th>5</th>\n",
       "      <td>Mean Absolute percentage Error</td>\n",
       "      <td>[19.279220725009118]</td>\n",
       "    </tr>\n",
       "    <tr>\n",
       "      <th>6</th>\n",
       "      <td>R-Square score</td>\n",
       "      <td>[0.6113955116245877]</td>\n",
       "    </tr>\n",
       "    <tr>\n",
       "      <th>7</th>\n",
       "      <td>Number of dependent variables (y)</td>\n",
       "      <td>[48]</td>\n",
       "    </tr>\n",
       "    <tr>\n",
       "      <th>8</th>\n",
       "      <td>Number of independent variables (x)</td>\n",
       "      <td>[1]</td>\n",
       "    </tr>\n",
       "    <tr>\n",
       "      <th>9</th>\n",
       "      <td>Adjusted  R-Square score</td>\n",
       "      <td>[0.6029475879642527]</td>\n",
       "    </tr>\n",
       "    <tr>\n",
       "      <th>10</th>\n",
       "      <td>Accuracy of model</td>\n",
       "      <td>[0.6228021009504172]</td>\n",
       "    </tr>\n",
       "  </tbody>\n",
       "</table>\n",
       "</div>"
      ],
      "text/plain": [
       "                                   Name                 Value\n",
       "0                Slope of line (weight)  [0.3156145350643722]\n",
       "1                intercepting on Y-Axis  [1.6318506164816515]\n",
       "2                   Mean Absolute Error  [0.7027153822663212]\n",
       "3                    Mean Squared Error  [0.7821261700365794]\n",
       "4              Root Mean Absolute Error  [0.8843789742166982]\n",
       "5        Mean Absolute percentage Error  [19.279220725009118]\n",
       "6                        R-Square score  [0.6113955116245877]\n",
       "7     Number of dependent variables (y)                  [48]\n",
       "8   Number of independent variables (x)                   [1]\n",
       "9              Adjusted  R-Square score  [0.6029475879642527]\n",
       "10                    Accuracy of model  [0.6228021009504172]"
      ]
     },
     "metadata": {},
     "output_type": "display_data"
    },
    {
     "data": {
      "image/png": "[encoded data removed]",
      "text/plain": [
       "<Figure size 432x288 with 1 Axes>"
      ]
     },
     "metadata": {
      "needs_background": "light"
     },
     "output_type": "display_data"
    }
   ],
   "source": [
    "x = data['Height'].values.reshape(-1, 1)\n",
    "y = data['Width'].values.reshape(-1, 1)\n",
    "\n",
    "reg, x_test, y_train, y_test, Y_pred = model_training(x, y)\n",
    "model_evalution(reg, x_test, y_test, Y_pred)"
   ]
  },
  {
   "cell_type": "code",
   "execution_count": 6,
   "id": "46b67441",
   "metadata": {},
   "outputs": [
    {
     "name": "stdout",
     "output_type": "stream",
     "text": [
      "Enter Height of the fish: \n",
      "7\n",
      "Width =  3.8411523619322567\n"
     ]
    }
   ],
   "source": [
    "val = float(input('Enter Height of the fish: \\n'))\n",
    "print(\"Width = \",float(reg.predict([[val]])))"
   ]
  },
  {
   "cell_type": "markdown",
   "id": "eb4abf00",
   "metadata": {},
   "source": [
    "## Analysis:"
   ]
  },
  {
   "cell_type": "markdown",
   "id": "3e0ecc1e",
   "metadata": {},
   "source": [
    "> 1. The above model is not a good fit and not gendralize model\n",
    "> 2. Because the residula plots are not good."
   ]
  },
  {
   "cell_type": "code",
   "execution_count": null,
   "id": "27de7c2a",
   "metadata": {},
   "outputs": [],
   "source": []
  }
 ],
 "metadata": {
  "kernelspec": {
   "display_name": "Python 3",
   "language": "python",
   "name": "python3"
  },
  "language_info": {
   "codemirror_mode": {
    "name": "ipython",
    "version": 3
   },
   "file_extension": ".py",
   "mimetype": "text/x-python",
   "name": "python",
   "nbconvert_exporter": "python",
   "pygments_lexer": "ipython3",
   "version": "3.8.3"
  }
 },
 "nbformat": 4,
 "nbformat_minor": 5
}
